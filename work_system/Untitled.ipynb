{
 "cells": [
  {
   "cell_type": "code",
   "execution_count": 1,
   "metadata": {},
   "outputs": [],
   "source": [
    "import pandas as pd"
   ]
  },
  {
   "cell_type": "code",
   "execution_count": 4,
   "metadata": {},
   "outputs": [],
   "source": [
    "dct = pd.read_csv('dictionary1.csv')"
   ]
  },
  {
   "cell_type": "code",
   "execution_count": 5,
   "metadata": {},
   "outputs": [
    {
     "data": {
      "text/html": [
       "<div>\n",
       "<style scoped>\n",
       "    .dataframe tbody tr th:only-of-type {\n",
       "        vertical-align: middle;\n",
       "    }\n",
       "\n",
       "    .dataframe tbody tr th {\n",
       "        vertical-align: top;\n",
       "    }\n",
       "\n",
       "    .dataframe thead th {\n",
       "        text-align: right;\n",
       "    }\n",
       "</style>\n",
       "<table border=\"1\" class=\"dataframe\">\n",
       "  <thead>\n",
       "    <tr style=\"text-align: right;\">\n",
       "      <th></th>\n",
       "      <th>name</th>\n",
       "      <th>type</th>\n",
       "      <th>desc</th>\n",
       "    </tr>\n",
       "  </thead>\n",
       "  <tbody>\n",
       "    <tr>\n",
       "      <th>0</th>\n",
       "      <td>A</td>\n",
       "      <td>NaN</td>\n",
       "      <td>The first letter of the English and of many ot...</td>\n",
       "    </tr>\n",
       "    <tr>\n",
       "      <th>1</th>\n",
       "      <td>A</td>\n",
       "      <td>NaN</td>\n",
       "      <td>The name of the sixth tone in the model major ...</td>\n",
       "    </tr>\n",
       "    <tr>\n",
       "      <th>2</th>\n",
       "      <td>A</td>\n",
       "      <td>NaN</td>\n",
       "      <td>An adjective, commonly called the indefinite a...</td>\n",
       "    </tr>\n",
       "    <tr>\n",
       "      <th>3</th>\n",
       "      <td>A</td>\n",
       "      <td>NaN</td>\n",
       "      <td>In each; to or for each; as, \"twenty leagues a...</td>\n",
       "    </tr>\n",
       "    <tr>\n",
       "      <th>4</th>\n",
       "      <td>A</td>\n",
       "      <td>prep.</td>\n",
       "      <td>In; on; at; by.</td>\n",
       "    </tr>\n",
       "    <tr>\n",
       "      <th>...</th>\n",
       "      <td>...</td>\n",
       "      <td>...</td>\n",
       "      <td>...</td>\n",
       "    </tr>\n",
       "    <tr>\n",
       "      <th>54550</th>\n",
       "      <td>Zoantharian</td>\n",
       "      <td>n.</td>\n",
       "      <td>One of the Anthozoa.</td>\n",
       "    </tr>\n",
       "    <tr>\n",
       "      <th>54551</th>\n",
       "      <td>Zoanthodeme</td>\n",
       "      <td>n.</td>\n",
       "      <td>The zooids of a compound anthozoan, collectively.</td>\n",
       "    </tr>\n",
       "    <tr>\n",
       "      <th>54552</th>\n",
       "      <td>Zoanthoid</td>\n",
       "      <td>a.</td>\n",
       "      <td>Of or pertaining to the Zoanthacea.</td>\n",
       "    </tr>\n",
       "    <tr>\n",
       "      <th>54553</th>\n",
       "      <td>Zoanthropy</td>\n",
       "      <td>n.</td>\n",
       "      <td>A kind of monomania in which the patient belie...</td>\n",
       "    </tr>\n",
       "    <tr>\n",
       "      <th>54554</th>\n",
       "      <td>Zoanthus</td>\n",
       "      <td>n.</td>\n",
       "      <td>A genus of Actinaria, including numerous speci...</td>\n",
       "    </tr>\n",
       "  </tbody>\n",
       "</table>\n",
       "<p>54555 rows × 3 columns</p>\n",
       "</div>"
      ],
      "text/plain": [
       "              name   type                                               desc\n",
       "0                A    NaN  The first letter of the English and of many ot...\n",
       "1                A    NaN  The name of the sixth tone in the model major ...\n",
       "2                A    NaN  An adjective, commonly called the indefinite a...\n",
       "3                A    NaN  In each; to or for each; as, \"twenty leagues a...\n",
       "4                A  prep.                                    In; on; at; by.\n",
       "...            ...    ...                                                ...\n",
       "54550  Zoantharian     n.                               One of the Anthozoa.\n",
       "54551  Zoanthodeme     n.  The zooids of a compound anthozoan, collectively.\n",
       "54552    Zoanthoid     a.                Of or pertaining to the Zoanthacea.\n",
       "54553   Zoanthropy     n.  A kind of monomania in which the patient belie...\n",
       "54554     Zoanthus     n.  A genus of Actinaria, including numerous speci...\n",
       "\n",
       "[54555 rows x 3 columns]"
      ]
     },
     "execution_count": 5,
     "metadata": {},
     "output_type": "execute_result"
    }
   ],
   "source": [
    "dct"
   ]
  },
  {
   "cell_type": "code",
   "execution_count": 37,
   "metadata": {},
   "outputs": [],
   "source": [
    "word = dct.loc[dct.name == 'Cricket','desc']"
   ]
  },
  {
   "cell_type": "code",
   "execution_count": 38,
   "metadata": {},
   "outputs": [],
   "source": [
    "for meaning in word.to_list():\n",
    "    print(meaning.split(';')[-1])"
   ]
  },
  {
   "cell_type": "code",
   "execution_count": null,
   "metadata": {},
   "outputs": [],
   "source": []
  },
  {
   "cell_type": "code",
   "execution_count": null,
   "metadata": {},
   "outputs": [],
   "source": []
  },
  {
   "cell_type": "code",
   "execution_count": null,
   "metadata": {},
   "outputs": [],
   "source": []
  }
 ],
 "metadata": {
  "kernelspec": {
   "display_name": "Python 3",
   "language": "python",
   "name": "python3"
  },
  "language_info": {
   "codemirror_mode": {
    "name": "ipython",
    "version": 3
   },
   "file_extension": ".py",
   "mimetype": "text/x-python",
   "name": "python",
   "nbconvert_exporter": "python",
   "pygments_lexer": "ipython3",
   "version": "3.8.5"
  }
 },
 "nbformat": 4,
 "nbformat_minor": 4
}
