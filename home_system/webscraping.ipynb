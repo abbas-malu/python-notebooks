{
 "cells": [
  {
   "cell_type": "code",
   "execution_count": 1,
   "metadata": {},
   "outputs": [],
   "source": [
    "import pyautogui as pg\n",
    "import html5lib\n",
    "from bs4 import BeautifulSoup\n",
    "import requests"
   ]
  },
  {
   "cell_type": "code",
   "execution_count": 45,
   "metadata": {},
   "outputs": [],
   "source": [
    "url = 'https://www.google.com/search?q=indore'\n",
    "content = requests.get('https://www.google.com/search?q=abbas')\n",
    "html = BeautifulSoup(content.content, 'html.parser')\n",
    "# print(html.prettify())"
   ]
  },
  {
   "cell_type": "code",
   "execution_count": 46,
   "metadata": {},
   "outputs": [
    {
     "data": {
      "text/plain": [
       "'abbas - Google Search'"
      ]
     },
     "execution_count": 46,
     "metadata": {},
     "output_type": "execute_result"
    }
   ],
   "source": [
    "title = html.title\n",
    "title.string"
   ]
  },
  {
   "cell_type": "code",
   "execution_count": 47,
   "metadata": {},
   "outputs": [
    {
     "data": {
      "text/plain": [
       "464"
      ]
     },
     "execution_count": 47,
     "metadata": {},
     "output_type": "execute_result"
    }
   ],
   "source": [
    "len(html.find_all('div'))"
   ]
  },
  {
   "cell_type": "code",
   "execution_count": 48,
   "metadata": {},
   "outputs": [
    {
     "data": {
      "text/plain": [
       "['V6gwVd']"
      ]
     },
     "execution_count": 48,
     "metadata": {},
     "output_type": "execute_result"
    }
   ],
   "source": [
    "html.find('span')['class']"
   ]
  },
  {
   "cell_type": "code",
   "execution_count": 49,
   "metadata": {},
   "outputs": [
    {
     "data": {
      "text/plain": [
       "[<span class=\"V6gwVd\">G</span>,\n",
       " <span class=\"V6gwVd\">g</span>,\n",
       " <span class=\"V6gwVd\">G</span>,\n",
       " <span class=\"V6gwVd\">g</span>]"
      ]
     },
     "execution_count": 49,
     "metadata": {},
     "output_type": "execute_result"
    }
   ],
   "source": [
    "html.find_all('span',class_='V6gwVd')"
   ]
  },
  {
   "cell_type": "code",
   "execution_count": 50,
   "metadata": {},
   "outputs": [
    {
     "name": "stdout",
     "output_type": "stream",
     "text": [
      "[\"abbas - Google SearchGoogleGoogle×Please click here if you are not redirected within a few seconds.    AllImagesNewsMaps Videos Shopping Books Search tools    Any timeAny timePast hourPast 24 hoursPast weekPast monthPast yearAll resultsAll resultsVerbatimAbbasIndian actorAbbas is an Indian actor and model from Kolkata, who has predominantly appeared in Tamil films, and a few films in Telugu, Malayalam, Hindi and Kannada Movies.He made his movie debut with Kadhir's Kadhal Desam in 1996. WikipediaBorn: 21 May 1975 (age 45\\xa0years), KolkataSpouse: Erum Ali (m. 2001)Education: The Frank Anthony Public SchoolTV shows: Vaidehi and DharmayuthamChildren: Aymaan Ali and Emira AliMoviesKadhal Desam1996Minnale2001Kandukondain Kandukondain2000Aanandham2001Poochudava1997Thiruttu Payale2006People also search forErum AliSpouseVineethLakshmiTrendingRajiv MenonR. MadhavanTabuSee results aboutMahmoud AbbasMahmoud Abbas, also known by the kunya Abu Mazen, is the President of the State of Palestine and Palestinian National Authority. He has been the Chairman of the Palestine Liberation Organization since 11 November 2004, and Palestinian president since 15 January 2005.Abbas (actor) - Wikipediaen.wikipedia.org › wiki › Abbas_(actor)Abbas (born 21 May 1975 as Abbas Ali) is an Indian actor and model from Kolkata, who has predominantly appeared in Tamil films, and a few films in Telugu, Malayalam, Hindi and Kannada Movies. He made his movie debut with Kadhir's Kadhal Desam in 1996.\", 'Erum Ali · Ini Ellam Sugame · Zinda Dil · Ansh: The Deadly Part', '', 'Years active: 1996—2016', 'Born: Mirza Abbas Ali; 21 May 1975 (age 45); Howrah, West Bengal, India', 'Occupation: Actor, Model', 'Children: 2People also askWhat does Abbas mean?Who is Hazrat Ghazi Abbas?What is actor Abbas doing now?How long has Abbas been in power?Abbas (name) - Wikipediaen.wikipedia.org › wiki › Abbas_(name)Abbas (also Abbass; Arabic: عباس) means \"Lion\" in Arabic The name traces back to Al-\\'Abbas ibn \\'Abd al-Muttalib (an uncle of Muhammad) and Abbas ibn Ali,\\xa0...', '', 'Meaning: Lion', 'Language(s): Arabic, Persian, Egyptian', \"Pronunciation: Arabic; PersianActor Abbas - Home | Facebookwww.facebook.com › Pages › Public Figure › ArtistActor Abbas, Chennai, India. 23411 likes · 25 talking about this. Hey guys! This is Abbas. It's My Official Facebook Page. I'm here to share my thoughts...Abbas seeks India's support in future Israeli-Palestinian talks ...www.youtube.com › watch11-Feb-2018 · Palestinian Authority President Mahmoud Abbas told Modi that he needs New Delhi's support ...Duration: 2:20\", 'Posted: 11-Feb-2018Related searchesAbbas AliAbbas nameAbbas wifeAbbas AlamdarAbbasnear Kasturba Gram, Indore, Madhya Pradesh 452020Advocate Abbas Q.Johar 3.7  (3) Lawyer · LG-6, Aafreen Regency, 147-CAbbas ali and sons 5.0  (1) Store · 6, near bajajkhana chowkGulam Abbas Fakhruddin   No reviews Hardware store · 38, Bohra Bazar, Bohra BazarMore placesPalestinian President Abbas says accords with Israel, US are void ...www.youtube.com › watch20-May-2020 · Palestinian President Mahmoud Abbas announced on Tuesday that his administration ...Duration: 4:03', \"Posted: 20-May-2020ImagesView allView allMahmoud Abbas News – the latest from Al Jazeerawww.aljazeera.com › topics › people › mahmoud-abbasGet today's live news on Mahmoud Abbas: current events, photos, infographics and Al Jazeera's exclusive stories from eyewitnesses.Mahmoud Abbas - The New York Timeswww.nytimes.com › topic › person › mahmoud-abbasNews about Mahmoud Abbas, including commentary and archival articles published in The New York Times.\", '', 'Country of nationality: Palestine', 'Nationality: PalestineBilal Abbas Khan (@bilalabbas_khan) • Instagram photos and videoswww.instagram.com › bilalabbas_khan2m Followers, 47 Following, 775 Posts - See Instagram photos and videos from Bilal Abbas Khan (@bilalabbas_khan)Mahmoud Abbas - AP Newsapnews.com › hub › mahmoud-abbasNews from The Associated Press, the definitive source for independent journalism from every corner of the globe.', '', 'Jurisdiction of office: Palestine', 'Party: Fatah', 'Country of nationality: Palestine', 'Nationality: PalestineRelated searchesAbbas ageErum AliActor Abbas death DateAbbas actor familyAbbas family photosAbbas InstagramAbbas definitionActor Abbas son  Next >  Sign inSettingsPrivacyTerms ']\n"
     ]
    }
   ],
   "source": [
    "print(html.find('html').get_text().split('\\n'))"
   ]
  },
  {
   "cell_type": "code",
   "execution_count": 64,
   "metadata": {},
   "outputs": [
    {
     "name": "stdout",
     "output_type": "stream",
     "text": [
      "88\n"
     ]
    }
   ],
   "source": [
    "links = []\n",
    "for link in html.find_all('a'):\n",
    "    full_link = link.get('href')\n",
    "    if link.get('href')[0]=='/':\n",
    "        full_link = 'https://www.google.com/'+link.get('href')\n",
    "    links.append(full_link)\n",
    "print(len(set(links)))"
   ]
  },
  {
   "cell_type": "code",
   "execution_count": 66,
   "metadata": {},
   "outputs": [
    {
     "name": "stdout",
     "output_type": "stream",
     "text": [
      "https://www.google.com//?sa=X&ved=0ahUKEwjG8_uD1uXsAhXWMMAKHVHqBWsQOwgC\n",
      "https://www.google.com//?output=search&ie=UTF-8&sa=X&ved=0ahUKEwjG8_uD1uXsAhXWMMAKHVHqBWsQPAgE\n",
      "https://www.google.com//search?q=abbas&ie=UTF-8&gbv=1&sei=le6gX4bVF9bhgAbR1JfYBg\n",
      "https://www.google.com//search?q=abbas&ie=UTF-8&source=lnms&tbm=isch&sa=X&ved=0ahUKEwjG8_uD1uXsAhXWMMAKHVHqBWsQ_AUICCgB\n",
      "https://www.google.com//search?q=abbas&ie=UTF-8&source=lnms&tbm=nws&sa=X&ved=0ahUKEwjG8_uD1uXsAhXWMMAKHVHqBWsQ_AUICSgC\n",
      "https://maps.google.com/maps?q=abbas&um=1&ie=UTF-8&sa=X&ved=0ahUKEwjG8_uD1uXsAhXWMMAKHVHqBWsQ_AUICigD\n",
      "https://www.google.com//search?q=abbas&ie=UTF-8&source=lnms&tbm=vid&sa=X&ved=0ahUKEwjG8_uD1uXsAhXWMMAKHVHqBWsQ_AUICygE\n",
      "https://www.google.com//search?q=abbas&ie=UTF-8&source=lnms&tbm=shop&sa=X&ved=0ahUKEwjG8_uD1uXsAhXWMMAKHVHqBWsQ_AUIDCgF\n",
      "https://www.google.com//search?q=abbas&ie=UTF-8&source=lnms&tbm=bks&sa=X&ved=0ahUKEwjG8_uD1uXsAhXWMMAKHVHqBWsQ_AUIDSgG\n",
      "https://www.google.com//advanced_search\n",
      "https://www.google.com//search?q=abbas&ie=UTF-8&source=lnt&tbs=qdr:h&sa=X&ved=0ahUKEwjG8_uD1uXsAhXWMMAKHVHqBWsQpwUIDw\n",
      "https://www.google.com//search?q=abbas&ie=UTF-8&source=lnt&tbs=qdr:d&sa=X&ved=0ahUKEwjG8_uD1uXsAhXWMMAKHVHqBWsQpwUIEA\n",
      "https://www.google.com//search?q=abbas&ie=UTF-8&source=lnt&tbs=qdr:w&sa=X&ved=0ahUKEwjG8_uD1uXsAhXWMMAKHVHqBWsQpwUIEQ\n",
      "https://www.google.com//search?q=abbas&ie=UTF-8&source=lnt&tbs=qdr:m&sa=X&ved=0ahUKEwjG8_uD1uXsAhXWMMAKHVHqBWsQpwUIEg\n",
      "https://www.google.com//search?q=abbas&ie=UTF-8&source=lnt&tbs=qdr:y&sa=X&ved=0ahUKEwjG8_uD1uXsAhXWMMAKHVHqBWsQpwUIEw\n",
      "https://www.google.com//search?q=abbas&ie=UTF-8&source=lnt&tbs=li:1&sa=X&ved=0ahUKEwjG8_uD1uXsAhXWMMAKHVHqBWsQpwUIFQ\n",
      "https://www.google.com//url?q=https://www.imdb.com/name/nm0007806/&sa=U&ved=2ahUKEwjG8_uD1uXsAhXWMMAKHVHqBWsQwW4wAHoECBYQAg&usg=AOvVaw0uVRpta_2t-Hwxd0KbjvpM\n",
      "https://www.google.com//url?q=https://en.wikipedia.org/wiki/Abbas_(actor)&sa=U&ved=2ahUKEwjG8_uD1uXsAhXWMMAKHVHqBWsQmhMwAnoECBYQBw&usg=AOvVaw2OurZms0ymSdowHSDHRkO6\n",
      "https://www.google.com//search?ie=UTF-8&q=Kolkata&stick=H4sIAAAAAAAAAOPgE-LUz9U3SC-sqMxR4gAxk8vKLbXEspOt9AtS8wtyUoFUUXF-nlVSflHeIlZ27_yc7MSSRABzBBdoOQAAAA&sa=X&ved=2ahUKEwjG8_uD1uXsAhXWMMAKHVHqBWsQmxMwBHoECBYQCQ\n",
      "https://www.google.com//search?ie=UTF-8&q=Erum+Ali&stick=H4sIAAAAAAAAAOPgE-LUz9U3SC-sqMxR4gIxLcvM8wzStCSyk630C1LzC3JSgVRRcX6eVXFBfmlx6iJWDtei0lwFx5xMAJKkbCU-AAAA&sa=X&ved=2ahUKEwjG8_uD1uXsAhXWMMAKHVHqBWsQmxMwBXoECBYQCw\n",
      "https://www.google.com//search?ie=UTF-8&q=The+Frank+Anthony+Public+School,+Bangalore&stick=H4sIAAAAAAAAAOPgE-LUz9U3SC-sqMxR4gIxs0rMDAvKtaSzk630C1LzC3JSgVRRcX6eVWpKaXJiSWZ-3iJWrZCMVAW3osS8bAXHvJKM_LxKhYDSpJzMZIXg5Iz8_BwdBafEvPTEnPyiVABW0FMBYwAAAA&sa=X&ved=2ahUKEwjG8_uD1uXsAhXWMMAKHVHqBWsQmxMwBnoECBYQDQ\n",
      "https://www.google.com//search?ie=UTF-8&q=Vaidehi+(2013+TV+series)&stick=H4sIAAAAAAAAAOPgE-LUz9U3SC-sqMxR4tVP1zc0TM4prjCuyjXSkspOttIvSM0vyEkFUkXF-XlWJWUKxRn55cWLWCXCEjNTUjMyFTSMDAyNFULCFIpTizJTizUBGmKcJlMAAAA&sa=X&ved=2ahUKEwjG8_uD1uXsAhXWMMAKHVHqBWsQmxMwB3oECBYQDw\n",
      "https://www.google.com//search?ie=UTF-8&q=Dharmayutham&stick=H4sIAAAAAAAAAOPgE-LUz9U3SC-sqMxR4gIx89JLyotNtKSyk630C1LzC3JSgVRRcX6eVUmZQnFGfnnxIlYel4zEotzEytKSjMRcAKnZxxNEAAAA&sa=X&ved=2ahUKEwjG8_uD1uXsAhXWMMAKHVHqBWsQmxMwB3oECBYQEA\n",
      "https://www.google.com//search?ie=UTF-8&q=Aymaan+Ali&stick=H4sIAAAAAAAAAOPgE-LUz9U3SC-sqMxR4gIxq1JKqtKrtKSyk630C1LzC3JSgVRRcX6eVXJGZk5KUWreIlYux8rcxMQ8BcecTAC54UWMQgAAAA&sa=X&ved=2ahUKEwjG8_uD1uXsAhXWMMAKHVHqBWsQmxMwCHoECBYQEg\n",
      "https://www.google.com//search?ie=UTF-8&q=Emira+Ali&stick=H4sIAAAAAAAAAOPgE-LUz9U3SC-sqMxR4gIxq1JKqtLTtaSyk630C1LzC3JSgVRRcX6eVXJGZk5KUWreIlZO19zMokQFx5xMACPhbE1BAAAA&sa=X&ved=2ahUKEwjG8_uD1uXsAhXWMMAKHVHqBWsQmxMwCHoECBYQEw\n",
      "https://www.google.com//search?ie=UTF-8&q=Kadhal+Desam&stick=H4sIAAAAAAAAAONgFuLUz9U3SC-sqMxRAjOzy5IKq7QkspOt9AtS8wtyUoFUUXF-nlVufllmavEiVh7vxJSMxBwFl9TixFwAXz9bO0EAAAA&sa=X&ved=2ahUKEwjG8_uD1uXsAhXWMMAKHVHqBWsQ0I4BMAl6BAgWEBY\n",
      "https://www.google.com//search?ie=UTF-8&q=Minnale&stick=H4sIAAAAAAAAAONgFuLUz9U3SC-sqMxRAjMtLUxyKrUkspOt9AtS8wtyUoFUUXF-nlVufllmavEiVnbfzLy8xJxUAJJGq648AAAA&sa=X&ved=2ahUKEwjG8_uD1uXsAhXWMMAKHVHqBWsQ0I4BMAl6BAgWEBg\n",
      "https://www.google.com//search?ie=UTF-8&q=Kandukondain+Kandukondain&stick=H4sIAAAAAAAAAONgFuLUz9U3SC-sqMxRAjPNypMrkrQkspOt9AtS8wtyUoFUUXF-nlVufllmavEiVknvxLyU0uz8vJTEzDwFZA4AWjZn1k4AAAA&sa=X&ved=2ahUKEwjG8_uD1uXsAhXWMMAKHVHqBWsQ0I4BMAl6BAgWEBo\n",
      "https://www.google.com//search?ie=UTF-8&q=Aanandham&stick=H4sIAAAAAAAAAONgFuLUz9U3SC-sqMxR4gIxjQoKLA2MtCSyk630C1LzC3JSgVRRcX6eVW5-WWZq8SJWTsfEvMS8lIzEXADw8v7UPwAAAA&sa=X&ved=2ahUKEwjG8_uD1uXsAhXWMMAKHVHqBWsQ0I4BMAl6BAgWEBw\n",
      "https://www.google.com//search?ie=UTF-8&q=Poochudava&stick=H4sIAAAAAAAAAONgFuLUz9U3SC-sqMxR4gIxk5Mt84qqtCSyk630C1LzC3JSgVRRcX6eVW5-WWZq8SJWroD8_OSM0pTEskQAr6swzkAAAAA&sa=X&ved=2ahUKEwjG8_uD1uXsAhXWMMAKHVHqBWsQ0I4BMAl6BAgWEB4\n",
      "https://www.google.com//search?ie=UTF-8&q=Thiruttu+Payale&stick=H4sIAAAAAAAAAONgFuLUz9U3SC-sqMxRAjNTLAxMyrQkspOt9AtS8wtyUoFUUXF-nlVufllmavEiVv6QjMyi0pKSUoWAxMrEnFQA2ZWJJEQAAAA&sa=X&ved=2ahUKEwjG8_uD1uXsAhXWMMAKHVHqBWsQ0I4BMAl6BAgWECA\n",
      "https://www.google.com//search?ie=UTF-8&q=Erum+Ali&stick=H4sIAAAAAAAAAONgFuLUz9U3SC-sqMxR4gIxLcvM8wzStKSyk630C1LzC3JSgVRRcX6eVXFmSmp5YmXxIlYO16LSXAXHnEwA35aHH0AAAAA&sa=X&ved=2ahUKEwjG8_uD1uXsAhXWMMAKHVHqBWsQ0I4BMAp6BAgWECM\n",
      "https://www.google.com//search?ie=UTF-8&q=Vineeth&stick=H4sIAAAAAAAAAONgFuLUz9U3SC-sqMxRAjMzjLINy7WkspOt9AtS8wtyUoFUUXF-nlVxZkpqeWJl8SJW9rDMvNTUkgwAa2PYfj4AAAA&sa=X&ved=2ahUKEwjG8_uD1uXsAhXWMMAKHVHqBWsQ0I4BMAp6BAgWECU\n",
      "https://www.google.com//search?ie=UTF-8&q=Lakshmi+(actress)&stick=H4sIAAAAAAAAAONgFuLUz9U3SC-sqMxR4gIxjcwszYyytaSyk630C1LzC3JSgVRRcX6eVXFmSmp5YmXxIlZBn8Ts4ozcTAWNxOSSotTiYk0Ab5WWQkkAAAA&sa=X&ved=2ahUKEwjG8_uD1uXsAhXWMMAKHVHqBWsQ0I4BMAp6BAgWECc\n",
      "https://www.google.com//search?ie=UTF-8&q=Rajiv+Menon&stick=H4sIAAAAAAAAAONgFuLUz9U3SC-sqMxRAjOTTHPTcrSkspOt9AtS8wtyUoFUUXF-nlVxZkpqeWJl8SJW7qDErMwyBd_UvPw8AAT7NUpCAAAA&sa=X&ved=2ahUKEwjG8_uD1uXsAhXWMMAKHVHqBWsQ0I4BMAp6BAgWECk\n",
      "https://www.google.com//search?ie=UTF-8&q=R.+Madhavan&stick=H4sIAAAAAAAAAONgFuLUz9U3SC-sqMxRAjMtTKoMyrWkspOt9AtS8wtyUoFUUXF-nlVxZkpqeWJl8SJW7iA9Bd_ElIzEssQ8AFgfTrBCAAAA&sa=X&ved=2ahUKEwjG8_uD1uXsAhXWMMAKHVHqBWsQ0I4BMAp6BAgWECs\n",
      "https://www.google.com//search?ie=UTF-8&q=Tabu&stick=H4sIAAAAAAAAAONgFuLUz9U3SC-sqMxRAjONK4wN07WkspOt9AtS8wtyUoFUUXF-nlVxZkpqeWJl8SJWlpDEpFIApJJLpTsAAAA&sa=X&ved=2ahUKEwjG8_uD1uXsAhXWMMAKHVHqBWsQ0I4BMAp6BAgWEC0\n",
      "https://www.google.com//search?ie=UTF-8&q=Mahmoud+Abbas&stick=H4sIAAAAAAAAAONgVuLUz9U3MMwoyc0BAMxaWY4NAAAA&sa=X&ved=2ahUKEwjG8_uD1uXsAhXWMMAKHVHqBWsQ6RMwDHoECAUQAw\n",
      "https://www.google.com//search?ie=UTF-8&q=Mahmoud+Abbas&stick=H4sIAAAAAAAAAONgVuLUz9U3MMwoyc0BAMxaWY4NAAAA&sa=X&ved=2ahUKEwjG8_uD1uXsAhXWMMAKHVHqBWsQ6RMwDHoECAUQBA\n",
      "https://www.google.com//url?q=https://en.wikipedia.org/wiki/Abbas_(actor)&sa=U&ved=2ahUKEwjG8_uD1uXsAhXWMMAKHVHqBWsQFjANegQIBhAB&usg=AOvVaw0tUAEsw76EY-j61Woo9scS\n",
      "https://www.google.com//url?q=https://en.wikipedia.org/wiki/Erum_Ali&sa=U&ved=2ahUKEwjG8_uD1uXsAhXWMMAKHVHqBWsQ0gIwDXoECAYQAg&usg=AOvVaw0Ew9QJnTR3M8pkNXOxb7t9\n",
      "https://www.google.com//url?q=https://en.wikipedia.org/wiki/Ini_Ellam_Sugame&sa=U&ved=2ahUKEwjG8_uD1uXsAhXWMMAKHVHqBWsQ0gIwDXoECAYQAw&usg=AOvVaw1txGjLqZqpqGeEuMWNZRnN\n",
      "https://www.google.com//url?q=https://en.wikipedia.org/wiki/Zinda_Dil_(2003_film)&sa=U&ved=2ahUKEwjG8_uD1uXsAhXWMMAKHVHqBWsQ0gIwDXoECAYQBA&usg=AOvVaw0bwMr7K5aGJuJslSRbpOE5\n",
      "https://www.google.com//url?q=https://en.wikipedia.org/wiki/Ansh:_The_Deadly_Part&sa=U&ved=2ahUKEwjG8_uD1uXsAhXWMMAKHVHqBWsQ0gIwDXoECAYQBQ&usg=AOvVaw3yV1vvDeOSBYf6wRcw-JyH\n",
      "https://www.google.com//url?q=https://en.wikipedia.org/wiki/Abbas_(name)&sa=U&ved=2ahUKEwjG8_uD1uXsAhXWMMAKHVHqBWsQFjAWegQIChAB&usg=AOvVaw1vhndAi7ofsIsDaCDS3iVR\n",
      "https://www.google.com//url?q=https://www.facebook.com/actorabbasofficial/&sa=U&ved=2ahUKEwjG8_uD1uXsAhXWMMAKHVHqBWsQFjAXegQICBAB&usg=AOvVaw0vEdoOTBVGz5C57mVHh7AC\n",
      "https://www.google.com//url?q=https://www.youtube.com/watch%3Fv%3D4nSe6siZ4hQ&sa=U&ved=2ahUKEwjG8_uD1uXsAhXWMMAKHVHqBWsQtwIwGHoECAIQAQ&usg=AOvVaw0bS-hA5gYoOeFdEvyFZfZ9\n",
      "https://www.google.com//url?q=https://www.youtube.com/watch%3Fv%3D4nSe6siZ4hQ&sa=U&ved=2ahUKEwjG8_uD1uXsAhXWMMAKHVHqBWsQuAIwGHoECAIQAg&usg=AOvVaw2c90coJdMKWUpB7BeKuzqy\n",
      "https://www.google.com//search?ie=UTF-8&q=Abbas+Ali&sa=X&ved=2ahUKEwjG8_uD1uXsAhXWMMAKHVHqBWsQ1QJ6BAgEEAI\n",
      "https://www.google.com//search?ie=UTF-8&q=Abbas+name&sa=X&ved=2ahUKEwjG8_uD1uXsAhXWMMAKHVHqBWsQ1QJ6BAgEEAQ\n",
      "https://www.google.com//search?ie=UTF-8&q=Abbas+wife&sa=X&ved=2ahUKEwjG8_uD1uXsAhXWMMAKHVHqBWsQ1QJ6BAgEEAY\n",
      "https://www.google.com//search?ie=UTF-8&q=Abbas+Alamdar&sa=X&ved=2ahUKEwjG8_uD1uXsAhXWMMAKHVHqBWsQ1QJ6BAgEEAg\n",
      "https://maps.google.com/maps?um=1&ie=UTF-8&fb=1&gl=in&sa=X&sll=22.708675,75.855324&sspn=0.0304045,0.0439465&q=abbas&ved=2ahUKEwjG8_uD1uXsAhXWMMAKHVHqBWsQtgMwHXoECBcQAQ\n",
      "https://www.google.com/search?ie=UTF-8&q=Advocate+Abbas+Q.Johar+Indore,+Madhya+Pradesh&ludocid=16096878436679718042&ibp=gwp;0,7&lsig=AB86z5Uzmn7139hwpUe1HwmwKUUy&phdesc=coAl1L8ig9U&sa=X&ved=2ahUKEwjG8_uD1uXsAhXWMMAKHVHqBWsQvS4wHXoECBcQBA\n",
      "https://www.google.com/search?ie=UTF-8&q=Advocate+Abbas+Q.Johar+Indore,+Madhya+Pradesh&ludocid=16096878436679718042&ibp=gwp;0,7&lsig=AB86z5Uzmn7139hwpUe1HwmwKUUy&phdesc=coAl1L8ig9U&sa=X&ved=2ahUKEwjG8_uD1uXsAhXWMMAKHVHqBWsQ_pABMB16BAgXEAU\n",
      "https://www.google.com/search?ie=UTF-8&q=Abbas+ali+and+sons+Indore,+Madhya+Pradesh&ludocid=14931398381091330441&ibp=gwp;0,7&lsig=AB86z5XMMAhJiOXnxJbIUUV99eEF&sa=X&ved=2ahUKEwjG8_uD1uXsAhXWMMAKHVHqBWsQvS4wHnoECBcQBw\n",
      "https://www.google.com/search?ie=UTF-8&q=Abbas+ali+and+sons+Indore,+Madhya+Pradesh&ludocid=14931398381091330441&ibp=gwp;0,7&lsig=AB86z5XMMAhJiOXnxJbIUUV99eEF&sa=X&ved=2ahUKEwjG8_uD1uXsAhXWMMAKHVHqBWsQ_pABMB56BAgXEAg\n",
      "https://www.google.com/search?ie=UTF-8&q=Gulam+Abbas+Fakhruddin+Indore,+Madhya+Pradesh&ludocid=12022026282438802717&ibp=gwp;0,7&lsig=AB86z5WtxsZbI2N6ybLLvAtqkgUc&sa=X&ved=2ahUKEwjG8_uD1uXsAhXWMMAKHVHqBWsQvS4wH3oECBcQCg\n",
      "https://www.google.com/search?ie=UTF-8&q=Gulam+Abbas+Fakhruddin+Indore,+Madhya+Pradesh&ludocid=12022026282438802717&ibp=gwp;0,7&lsig=AB86z5WtxsZbI2N6ybLLvAtqkgUc&sa=X&ved=2ahUKEwjG8_uD1uXsAhXWMMAKHVHqBWsQ_pABMB96BAgXEAs\n",
      "https://www.google.com/search?ie=UTF-8&ei=le6gX4bVF9bhgAbR1JfYBg&q=abbas&rlst=f&sa=X&ved=2ahUKEwjG8_uD1uXsAhXWMMAKHVHqBWsQjGowHXoECBcQDA\n",
      "https://www.google.com//url?q=https://www.youtube.com/watch%3Fv%3DVn7uuo5Uflc&sa=U&ved=2ahUKEwjG8_uD1uXsAhXWMMAKHVHqBWsQtwIwIHoECAEQAQ&usg=AOvVaw0Gc1zpyWTWcWV3-wa1SB2e\n",
      "https://www.google.com//url?q=https://www.youtube.com/watch%3Fv%3DVn7uuo5Uflc&sa=U&ved=2ahUKEwjG8_uD1uXsAhXWMMAKHVHqBWsQuAIwIHoECAEQAg&usg=AOvVaw0zZlI2ZtdCfK9yJEnyxqDJ\n",
      "https://www.google.com/search?ie=UTF-8&ei=le6gX4bVF9bhgAbR1JfYBg&q=abbas&tbm=isch&sa=X&ved=2ahUKEwjG8_uD1uXsAhXWMMAKHVHqBWsQsAR6BAgDEAE\n",
      "https://www.google.com/search?ie=UTF-8&ei=le6gX4bVF9bhgAbR1JfYBg&q=abbas&tbm=isch&sa=X&ved=2ahUKEwjG8_uD1uXsAhXWMMAKHVHqBWsQ7Al6BAgDEAI\n",
      "https://www.google.com/imgres?imgurl=https://upload.wikimedia.org/wikipedia/commons/5/5d/Mahmoud_Abbas_May_2018.jpg&imgrefurl=https://en.wikipedia.org/wiki/Mahmoud_Abbas&h=862&w=639&tbnid=4GcG5D24tyZtHM&q=abbas&tbnh=145&tbnw=107&usg=AI4_-kQPqBAtx9q4VLbmXxYX1LsyghBmtw&vet=1&docid=8aoIhpAm1Le8vM&sa=X&ved=2ahUKEwjG8_uD1uXsAhXWMMAKHVHqBWsQ9QEwIXoECAMQBA\n",
      "https://www.google.com/imgres?imgurl=https://s.france24.com/media/display/2de1a6a2-af6c-11e9-bc2c-005056a98db9/w:1280/p:4x3/abbas_38.jpg&imgrefurl=https://www.france24.com/en/20190726-palestinians-israel-halt-agreements-taxes-un-demolitions&h=960&w=1280&tbnid=HSui1E5PW2Gr0M&q=abbas&tbnh=113&tbnw=150&usg=AI4_-kS8BQcEyxEP3WmEPUNiEHb8-zGsFA&vet=1&docid=YehUf6zibkf2MM&sa=X&ved=2ahUKEwjG8_uD1uXsAhXWMMAKHVHqBWsQ9QEwInoECAMQBg\n",
      "https://www.google.com/imgres?imgurl=https://www.aljazeera.com/wp-content/uploads/2020/05/c1b3ec88cdd748cfa7ba5d3bc4e73f6b_18.jpeg?resize%3D770%252C513&imgrefurl=https://www.aljazeera.com/news/2020/5/20/palestinian-president-abbas-says-accords-with-israel-us-are-void&h=513&w=770&tbnid=tBU246ywaIRHwM&q=abbas&tbnh=95&tbnw=142&usg=AI4_-kRLZCSIVY8HSwXFyPT5nOvsKxhBzw&vet=1&docid=SQWjDL8DFjZCPM&sa=X&ved=2ahUKEwjG8_uD1uXsAhXWMMAKHVHqBWsQ9QEwI3oECAMQCA\n",
      "https://www.google.com/imgres?imgurl=https://static.timesofisrael.com/www/uploads/2020/01/AP_20028745814897.jpg&imgrefurl=https://www.timesofisrael.com/state-department-accuses-abbas-of-inconsistency-on-non-violence-pledges/&h=1360&w=2048&tbnid=M_McpizuDVEP6M&q=abbas&tbnh=100&tbnw=150&usg=AI4_-kTmH7c9hHFcIED8LqiFHA5B5fR0nA&vet=1&docid=U5CSTzuKHXPmJM&sa=X&ved=2ahUKEwjG8_uD1uXsAhXWMMAKHVHqBWsQ9QEwJHoECAMQCg\n",
      "https://www.google.com/imgres?imgurl=https://img.theweek.in/content/dam/week/news/world/images/2020/4/14/Mahmoud-Abbas-PM-Modi-File.jpg&imgrefurl=https://www.theweek.in/news/world/2020/04/14/modi-holds-talks-with-palestinian-prez-mahmoud-abbas-discusses-covid-19-pandemic.html&h=443&w=760&tbnid=TRx-xCkbp8W8BM&q=abbas&tbnh=83&tbnw=142&usg=AI4_-kQb4dSdoGUw4v0zFzoR77WXHkn3vA&vet=1&docid=HKMpBecFMAjjqM&sa=X&ved=2ahUKEwjG8_uD1uXsAhXWMMAKHVHqBWsQ9QEwJXoECAMQDA\n",
      "https://www.google.com/imgres?imgurl=https://m.media-amazon.com/images/M/MV5BY2Q2NjVlYTQtZWZkNC00NjU3LWE2YzItMDQzZmE1NmQ0ZDc2XkEyXkFqcGdeQXVyMjYwMDk5NjE@._V1_UY1200_CR83,0,630,1200_AL_.jpg&imgrefurl=https://www.imdb.com/name/nm0007806/&h=1200&w=630&tbnid=_ckrkhy39qc9SM&q=abbas&tbnh=150&tbnw=79&usg=AI4_-kRX1RJk8hQVHwM-MJ6QXfg_WPpq0Q&vet=1&docid=8ZlZi6P8biBkzM&sa=X&ved=2ahUKEwjG8_uD1uXsAhXWMMAKHVHqBWsQ9QEwJnoECAMQDg\n",
      "https://www.google.com/search?ie=UTF-8&ei=le6gX4bVF9bhgAbR1JfYBg&q=abbas&tbm=isch&sa=X&ved=2ahUKEwjG8_uD1uXsAhXWMMAKHVHqBWsQ7Al6BAgDEA8\n",
      "https://www.google.com//url?q=https://www.aljazeera.com/topics/people/mahmoud-abbas.html&sa=U&ved=2ahUKEwjG8_uD1uXsAhXWMMAKHVHqBWsQFjAnegQIEBAB&usg=AOvVaw18g02MMMFd8S7j5LdyRHtz\n",
      "https://www.google.com//url?q=https://www.nytimes.com/topic/person/mahmoud-abbas&sa=U&ved=2ahUKEwjG8_uD1uXsAhXWMMAKHVHqBWsQFjAoegQIExAB&usg=AOvVaw1ftw63vtvJ-CdUgI-w-pI2\n",
      "https://www.google.com//url?q=https://www.instagram.com/bilalabbas_khan/%3Fhl%3Den&sa=U&ved=2ahUKEwjG8_uD1uXsAhXWMMAKHVHqBWsQFjApegQIDhAB&usg=AOvVaw0uPUf_r9IKFfDX6ZmEJ5kK\n",
      "https://www.google.com//url?q=https://apnews.com/hub/mahmoud-abbas&sa=U&ved=2ahUKEwjG8_uD1uXsAhXWMMAKHVHqBWsQFjAqegQICxAB&usg=AOvVaw213Fkfdksls9MQ8GCW9qko\n",
      "https://www.google.com//search?ie=UTF-8&q=Abbas+age&sa=X&ved=2ahUKEwjG8_uD1uXsAhXWMMAKHVHqBWsQ1QJ6BAgAEAI\n",
      "https://www.google.com//search?ie=UTF-8&q=Erum+Ali&sa=X&ved=2ahUKEwjG8_uD1uXsAhXWMMAKHVHqBWsQ1QJ6BAgAEAQ\n",
      "https://www.google.com//search?ie=UTF-8&q=Actor+Abbas+death+Date&sa=X&ved=2ahUKEwjG8_uD1uXsAhXWMMAKHVHqBWsQ1QJ6BAgAEAY\n",
      "https://www.google.com//search?ie=UTF-8&q=Abbas+actor+family&sa=X&ved=2ahUKEwjG8_uD1uXsAhXWMMAKHVHqBWsQ1QJ6BAgAEAg\n",
      "https://www.google.com//search?ie=UTF-8&q=Abbas+family+photos&sa=X&ved=2ahUKEwjG8_uD1uXsAhXWMMAKHVHqBWsQ1QJ6BAgAEAo\n",
      "https://www.google.com//search?ie=UTF-8&q=Abbas+Instagram&sa=X&ved=2ahUKEwjG8_uD1uXsAhXWMMAKHVHqBWsQ1QJ6BAgAEAw\n",
      "https://www.google.com//search?ie=UTF-8&q=Abbas+definition&sa=X&ved=2ahUKEwjG8_uD1uXsAhXWMMAKHVHqBWsQ1QJ6BAgAEA4\n",
      "https://www.google.com//search?ie=UTF-8&q=Actor+Abbas+son&sa=X&ved=2ahUKEwjG8_uD1uXsAhXWMMAKHVHqBWsQ1QJ6BAgAEBA\n",
      "https://www.google.com//search?q=abbas&ie=UTF-8&ei=le6gX4bVF9bhgAbR1JfYBg&start=10&sa=N\n",
      "https://www.google.com//url?q=https://accounts.google.com/ServiceLogin%3Fcontinue%3Dhttps://www.google.com/search%253Fq%253Dabbas%26hl%3Den&sa=U&ved=0ahUKEwjG8_uD1uXsAhXWMMAKHVHqBWsQxs8CCMwB&usg=AOvVaw14awK9qKvbdr-1RSpUlieR\n",
      "https://www.google.com/preferences?hl=en-IN&fg=1&sa=X&ved=0ahUKEwjG8_uD1uXsAhXWMMAKHVHqBWsQ5fUCCM0B\n",
      "https://policies.google.com/privacy?hl=en-IN&fg=1\n",
      "https://policies.google.com/terms?hl=en-IN&fg=1\n"
     ]
    }
   ],
   "source": [
    "for i in links:\n",
    "    print(i)"
   ]
  },
  {
   "cell_type": "code",
   "execution_count": null,
   "metadata": {},
   "outputs": [],
   "source": []
  }
 ],
 "metadata": {
  "kernelspec": {
   "display_name": "Python 3",
   "language": "python",
   "name": "python3"
  },
  "language_info": {
   "codemirror_mode": {
    "name": "ipython",
    "version": 3
   },
   "file_extension": ".py",
   "mimetype": "text/x-python",
   "name": "python",
   "nbconvert_exporter": "python",
   "pygments_lexer": "ipython3",
   "version": "3.8.3"
  }
 },
 "nbformat": 4,
 "nbformat_minor": 4
}
