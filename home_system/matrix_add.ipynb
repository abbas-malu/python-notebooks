{
 "cells": [
  {
   "cell_type": "code",
   "execution_count": 13,
   "metadata": {},
   "outputs": [],
   "source": [
    "import numpy as np"
   ]
  },
  {
   "cell_type": "code",
   "execution_count": 14,
   "metadata": {},
   "outputs": [
    {
     "name": "stdout",
     "output_type": "stream",
     "text": [
      "Enter No of rows for first matrix: 3\n",
      "Enter No of columns for first matrix: 2\n",
      "Enter No of rows for second matrix: 2\n",
      "Enter No of columns for second matrix: 3\n"
     ]
    }
   ],
   "source": [
    "row1 = int(input('Enter No of rows for first matrix: '))\n",
    "col1 = int(input('Enter No of columns for first matrix: '))\n",
    "row2 = int(input('Enter No of rows for second matrix: '))\n",
    "col2 = int(input('Enter No of columns for second matrix: '))"
   ]
  },
  {
   "cell_type": "code",
   "execution_count": 15,
   "metadata": {},
   "outputs": [
    {
     "name": "stdout",
     "output_type": "stream",
     "text": [
      "Enter the number for a1.1: 1\n",
      "Enter the number for a1.2: 2\n",
      "Enter the number for a2.1: 3\n",
      "Enter the number for a2.2: 4\n",
      "Enter the number for a3.1: 5\n",
      "Enter the number for a3.2: 6\n",
      "Enter the number for b1.1: 7\n",
      "Enter the number for b1.2: 8\n",
      "Enter the number for b1.3: 9\n",
      "Enter the number for b2.1: 10\n",
      "Enter the number for b2.2: 11\n",
      "Enter the number for b2.3: 12\n"
     ]
    }
   ],
   "source": [
    "if col1==row2:\n",
    "    mat1 = []\n",
    "    for i in range(row1):\n",
    "        col = []\n",
    "        for j in range(col1):\n",
    "            x = int(input(f'Enter the number for a{i+1}.{j+1}: '))\n",
    "            col.append(x)\n",
    "        mat1.append(col)\n",
    "    mat2 = []\n",
    "    for i in range(row2):\n",
    "        col = []\n",
    "        for j in range(col2):\n",
    "            x = int(input(f'Enter the number for b{i+1}.{j+1}: '))\n",
    "            col.append(x)\n",
    "        mat2.append(col)"
   ]
  },
  {
   "cell_type": "code",
   "execution_count": 19,
   "metadata": {},
   "outputs": [],
   "source": [
    "mat1 = list(np.array(mat1))\n",
    "mat2 = list(np.array(mat2))"
   ]
  },
  {
   "cell_type": "code",
   "execution_count": null,
   "metadata": {},
   "outputs": [],
   "source": []
  },
  {
   "cell_type": "code",
   "execution_count": null,
   "metadata": {},
   "outputs": [],
   "source": [
    "1 2   7  8  9\n",
    "3 4   10 11 12\n",
    "5 6"
   ]
  },
  {
   "cell_type": "code",
   "execution_count": 26,
   "metadata": {},
   "outputs": [
    {
     "name": "stdout",
     "output_type": "stream",
     "text": [
      "[1 2]\n",
      "[7 8 9]\n",
      "7\n",
      "8\n",
      "9\n",
      "[10 11 12]\n",
      "10\n",
      "11\n",
      "12\n",
      "[3 4]\n",
      "[7 8 9]\n",
      "7\n",
      "8\n",
      "9\n",
      "[10 11 12]\n",
      "10\n",
      "11\n",
      "12\n",
      "[5 6]\n",
      "[7 8 9]\n",
      "7\n",
      "8\n",
      "9\n",
      "[10 11 12]\n",
      "10\n",
      "11\n",
      "12\n"
     ]
    }
   ],
   "source": [
    "for row in mat1:\n",
    "    print(row)\n",
    "    for i in range(len(mat2)):\n",
    "        print(mat2[i])\n",
    "        for j in range(len(mat2[i])):\n",
    "            print(mat2[i][j])"
   ]
  },
  {
   "cell_type": "code",
   "execution_count": null,
   "metadata": {},
   "outputs": [],
   "source": []
  }
 ],
 "metadata": {
  "kernelspec": {
   "display_name": "Python 3",
   "language": "python",
   "name": "python3"
  },
  "language_info": {
   "codemirror_mode": {
    "name": "ipython",
    "version": 3
   },
   "file_extension": ".py",
   "mimetype": "text/x-python",
   "name": "python",
   "nbconvert_exporter": "python",
   "pygments_lexer": "ipython3",
   "version": "3.8.3"
  }
 },
 "nbformat": 4,
 "nbformat_minor": 4
}
