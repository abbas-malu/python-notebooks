{
 "cells": [
  {
   "cell_type": "code",
   "execution_count": 16,
   "metadata": {},
   "outputs": [],
   "source": [
    "import pyautogui\n",
    "import random"
   ]
  },
  {
   "cell_type": "code",
   "execution_count": 17,
   "metadata": {},
   "outputs": [],
   "source": [
    "import time"
   ]
  },
  {
   "cell_type": "code",
   "execution_count": null,
   "metadata": {},
   "outputs": [],
   "source": [
    "time.sleep(2)\n",
    "i=0\n",
    "while i<=10:\n",
    "    time.sleep(.1)\n",
    "    pyautogui.typewrite('Hello!!!')\n",
    "    pyautogui.press('enter')\n",
    "    i+=1"
   ]
  },
  {
   "cell_type": "code",
   "execution_count": 30,
   "metadata": {},
   "outputs": [],
   "source": [
    "distance = 250\n",
    "time.sleep(3)\n",
    "while distance > 0:\n",
    "    pyautogui.drag(distance, 0, duration=0)   # move right\n",
    "    distance -= 6\n",
    "    pyautogui.drag(0, distance, duration=0)   # move down\n",
    "    pyautogui.drag(-distance, 0, duration=0)  # move left\n",
    "    distance -= 6\n",
    "    pyautogui.drag(0, -distance, duration=0)  # move up"
   ]
  },
  {
   "cell_type": "code",
   "execution_count": 22,
   "metadata": {},
   "outputs": [],
   "source": [
    "time.sleep(5)\n",
    "for i in range(24):\n",
    "    num = random.randint(10000,1000000)\n",
    "    pyautogui.typewrite(str(num))\n",
    "    pyautogui.press('enter')"
   ]
  },
  {
   "cell_type": "code",
   "execution_count": null,
   "metadata": {},
   "outputs": [],
   "source": []
  }
 ],
 "metadata": {
  "kernelspec": {
   "display_name": "Python 3",
   "language": "python",
   "name": "python3"
  },
  "language_info": {
   "codemirror_mode": {
    "name": "ipython",
    "version": 3
   },
   "file_extension": ".py",
   "mimetype": "text/x-python",
   "name": "python",
   "nbconvert_exporter": "python",
   "pygments_lexer": "ipython3",
   "version": "3.8.3"
  }
 },
 "nbformat": 4,
 "nbformat_minor": 4
}
