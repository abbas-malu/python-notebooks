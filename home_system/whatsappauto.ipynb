{
 "cells": [
  {
   "cell_type": "code",
   "execution_count": 1,
   "metadata": {},
   "outputs": [],
   "source": [
    "import pywhatkit as pyw\n",
    "import datetime,time"
   ]
  },
  {
   "cell_type": "code",
   "execution_count": 2,
   "metadata": {},
   "outputs": [
    {
     "name": "stdout",
     "output_type": "stream",
     "text": [
      "In 24 seconds web.whatsapp.com will open and after 20 seconds message will be delivered\n",
      "In 39 seconds web.whatsapp.com will open and after 20 seconds message will be delivered\n",
      "In 40 seconds web.whatsapp.com will open and after 20 seconds message will be delivered\n",
      "In 40 seconds web.whatsapp.com will open and after 20 seconds message will be delivered\n",
      "In 39 seconds web.whatsapp.com will open and after 20 seconds message will be delivered\n",
      "In 40 seconds web.whatsapp.com will open and after 20 seconds message will be delivered\n",
      "In 40 seconds web.whatsapp.com will open and after 20 seconds message will be delivered\n"
     ]
    }
   ],
   "source": [
    "no = ['8817672852','9827005252','7000128841','8839477855','7000642414','8982100452',' 9179630904']\n",
    "x = 1\n",
    "for i in no:\n",
    "    pyw.sendwhatmsg(f\"+91{i}\",f\"This is a scheduled at{datetime.datetime.now()} \",11,x)\n",
    "    x+=1"
   ]
  },
  {
   "cell_type": "code",
   "execution_count": null,
   "metadata": {},
   "outputs": [],
   "source": []
  }
 ],
 "metadata": {
  "kernelspec": {
   "display_name": "Python 3",
   "language": "python",
   "name": "python3"
  },
  "language_info": {
   "codemirror_mode": {
    "name": "ipython",
    "version": 3
   },
   "file_extension": ".py",
   "mimetype": "text/x-python",
   "name": "python",
   "nbconvert_exporter": "python",
   "pygments_lexer": "ipython3",
   "version": "3.8.5"
  }
 },
 "nbformat": 4,
 "nbformat_minor": 4
}
