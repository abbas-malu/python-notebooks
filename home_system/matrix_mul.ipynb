{
 "cells": [
  {
   "cell_type": "code",
   "execution_count": 1,
   "metadata": {},
   "outputs": [],
   "source": [
    "import numpy as np"
   ]
  },
  {
   "cell_type": "code",
   "execution_count": 153,
   "metadata": {},
   "outputs": [
    {
     "name": "stdout",
     "output_type": "stream",
     "text": [
      "Enter No of rows for first matrix: 4\n",
      "Enter No of columns for first matrix: 2\n",
      "Enter No of rows for second matrix: 4\n",
      "Enter No of columns for second matrix: 1\n"
     ]
    }
   ],
   "source": [
    "row1 = int(input('Enter No of rows for first matrix: '))\n",
    "col1 = int(input('Enter No of columns for first matrix: '))\n",
    "row2 = int(input('Enter No of rows for second matrix: '))\n",
    "col2 = int(input('Enter No of columns for second matrix: '))"
   ]
  },
  {
   "cell_type": "code",
   "execution_count": 154,
   "metadata": {},
   "outputs": [
    {
     "name": "stdout",
     "output_type": "stream",
     "text": [
      "Mismatch in matrix dimension\n"
     ]
    }
   ],
   "source": [
    "if col1==row2:\n",
    "    mat1 = []\n",
    "    for i in range(row1):\n",
    "        col = []\n",
    "        for j in range(col1):\n",
    "            x = int(input(f'Enter the number for a{i+1}.{j+1}: '))\n",
    "            col.append(x)\n",
    "        mat1.append(col)\n",
    "    mat2 = []\n",
    "    for i in range(row2):\n",
    "        col = []\n",
    "        for j in range(col2):\n",
    "            x = int(input(f'Enter the number for b{i+1}.{j+1}: '))\n",
    "            col.append(x)\n",
    "        mat2.append(col)\n",
    "else:\n",
    "    print('Mismatch in matrix dimension')"
   ]
  },
  {
   "cell_type": "code",
   "execution_count": 147,
   "metadata": {
    "scrolled": true
   },
   "outputs": [
    {
     "data": {
      "text/plain": [
       "[[758], [828], [898], [968]]"
      ]
     },
     "execution_count": 147,
     "metadata": {},
     "output_type": "execute_result"
    }
   ],
   "source": [
    "final_mat = []\n",
    "for row_index in range(len(mat1)):\n",
    "    final_mat.append([])\n",
    "    row_mul = mat1[row_index]\n",
    "    for i in range(len(mat2[0])):\n",
    "        col_mul = []\n",
    "        for j in mat2:\n",
    "            col_mul.append(j[i])\n",
    "        num = 0\n",
    "        for x in range(len(row_mul)):\n",
    "            num += row_mul[x]*col_mul[x]\n",
    "        final_mat[row_index].append(num)\n",
    "final_mat"
   ]
  },
  {
   "cell_type": "code",
   "execution_count": 148,
   "metadata": {},
   "outputs": [
    {
     "data": {
      "text/plain": [
       "array([[758],\n",
       "       [828],\n",
       "       [898],\n",
       "       [968]])"
      ]
     },
     "execution_count": 148,
     "metadata": {},
     "output_type": "execute_result"
    }
   ],
   "source": [
    "final_mat = np.array(final_mat)\n",
    "# final_mat.shape = (5,5)\n",
    "final_mat"
   ]
  },
  {
   "cell_type": "code",
   "execution_count": 149,
   "metadata": {},
   "outputs": [
    {
     "data": {
      "text/plain": [
       "array([[758],\n",
       "       [828],\n",
       "       [898],\n",
       "       [968]])"
      ]
     },
     "execution_count": 149,
     "metadata": {},
     "output_type": "execute_result"
    }
   ],
   "source": [
    "mat1_arr = np.array(mat1)\n",
    "mat2_arr = np.array(mat2)\n",
    "mat1_arr.dot(mat2_arr)"
   ]
  },
  {
   "cell_type": "code",
   "execution_count": 150,
   "metadata": {},
   "outputs": [
    {
     "data": {
      "text/plain": [
       "(array([[21, 22],\n",
       "        [23, 24],\n",
       "        [25, 26],\n",
       "        [27, 28]]),\n",
       " array([[12],\n",
       "        [23]]))"
      ]
     },
     "execution_count": 150,
     "metadata": {},
     "output_type": "execute_result"
    }
   ],
   "source": [
    "mat1_arr,mat2_arr"
   ]
  },
  {
   "cell_type": "code",
   "execution_count": 155,
   "metadata": {},
   "outputs": [
    {
     "data": {
      "text/html": [
       "<h1>Abbas</h1>\n",
       "<h1>Abbas</h1>\n",
       "<h1>Abbas</h1>\n",
       "<h1>Abbas</h1>\n"
      ],
      "text/plain": [
       "<IPython.core.display.HTML object>"
      ]
     },
     "metadata": {},
     "output_type": "display_data"
    }
   ],
   "source": [
    "%%HTML\n",
    "<h1>Abbas</h1>\n",
    "<h1>Abbas</h1>\n",
    "<h1>Abbas</h1>\n",
    "<h1>Abbas</h1>\n"
   ]
  },
  {
   "cell_type": "code",
   "execution_count": null,
   "metadata": {},
   "outputs": [],
   "source": []
  }
 ],
 "metadata": {
  "kernelspec": {
   "display_name": "Python 3",
   "language": "python",
   "name": "python3"
  },
  "language_info": {
   "codemirror_mode": {
    "name": "ipython",
    "version": 3
   },
   "file_extension": ".py",
   "mimetype": "text/x-python",
   "name": "python",
   "nbconvert_exporter": "python",
   "pygments_lexer": "ipython3",
   "version": "3.8.3"
  }
 },
 "nbformat": 4,
 "nbformat_minor": 4
}
