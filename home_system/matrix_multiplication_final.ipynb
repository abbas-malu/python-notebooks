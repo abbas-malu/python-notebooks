{
 "cells": [
  {
   "cell_type": "code",
   "execution_count": 3,
   "metadata": {},
   "outputs": [
    {
     "name": "stdout",
     "output_type": "stream",
     "text": [
      "Enter No of rows for first matrix: 3\n",
      "Enter No of columns for first matrix: 2\n",
      "Enter No of rows for second matrix: 2\n",
      "Enter No of columns for second matrix: 3\n",
      "Enter the number for a1.1: 101\n",
      "Enter the number for a1.2: 102\n",
      "Enter the number for a2.1: 103\n",
      "Enter the number for a2.2: 104\n",
      "Enter the number for a3.1: 105\n",
      "Enter the number for a3.2: 106\n",
      "Enter the number for b1.1: 101\n",
      "Enter the number for b1.2: 102\n",
      "Enter the number for b1.3: 103\n",
      "Enter the number for b2.1: 104\n",
      "Enter the number for b2.2: 105\n",
      "Enter the number for b2.3: 106\n",
      "\n",
      "The product of  [[101, 102], [103, 104], [105, 106]]   and    [[101, 102, 103], [104, 105, 106]] is\n",
      "\n",
      "[20809, 21012, 21215]\n",
      "[21219, 21426, 21633]\n",
      "[21629, 21840, 22051]\n"
     ]
    }
   ],
   "source": [
    "row1 = int(input('Enter No of rows for first matrix: '))\n",
    "col1 = int(input('Enter No of columns for first matrix: '))\n",
    "row2 = int(input('Enter No of rows for second matrix: '))\n",
    "col2 = int(input('Enter No of columns for second matrix: '))\n",
    "if col1==row2:\n",
    "    mat1 = []\n",
    "    for i in range(row1):\n",
    "        col = []\n",
    "        for j in range(col1):\n",
    "            x = int(input(f'Enter the number for a{i+1}.{j+1}: '))\n",
    "            col.append(x)\n",
    "        mat1.append(col)\n",
    "    mat2 = []\n",
    "    for i in range(row2):\n",
    "        col = []\n",
    "        for j in range(col2):\n",
    "            x = int(input(f'Enter the number for b{i+1}.{j+1}: '))\n",
    "            col.append(x)\n",
    "        mat2.append(col)\n",
    "else:\n",
    "    print('Mismatch in matrix dimension')\n",
    "final_mat = []\n",
    "for row_index in range(len(mat1)):\n",
    "    final_mat.append([])\n",
    "    row_mul = mat1[row_index]\n",
    "    for i in range(len(mat2[0])):\n",
    "        col_mul = []\n",
    "        for j in mat2:\n",
    "            col_mul.append(j[i])\n",
    "        num = 0\n",
    "        for x in range(len(row_mul)):\n",
    "            num += row_mul[x]*col_mul[x]\n",
    "        final_mat[row_index].append(num)\n",
    "print(f'\\nThe product of  {mat1}   and    {mat2} is\\n')\n",
    "for i in final_mat:\n",
    "    print(i)\n"
   ]
  },
  {
   "cell_type": "code",
   "execution_count": null,
   "metadata": {},
   "outputs": [],
   "source": []
  }
 ],
 "metadata": {
  "kernelspec": {
   "display_name": "Python 3",
   "language": "python",
   "name": "python3"
  },
  "language_info": {
   "codemirror_mode": {
    "name": "ipython",
    "version": 3
   },
   "file_extension": ".py",
   "mimetype": "text/x-python",
   "name": "python",
   "nbconvert_exporter": "python",
   "pygments_lexer": "ipython3",
   "version": "3.8.3"
  }
 },
 "nbformat": 4,
 "nbformat_minor": 4
}
