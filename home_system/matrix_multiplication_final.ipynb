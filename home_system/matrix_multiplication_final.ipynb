{
 "cells": [
  {
   "cell_type": "code",
   "execution_count": 2,
   "metadata": {},
   "outputs": [
    {
     "name": "stdout",
     "output_type": "stream",
     "text": [
      "Enter No of rows for first matrix: 4\n",
      "Enter No of columns for first matrix: 2\n",
      "Enter No of rows for second matrix: 2\n",
      "Enter No of columns for second matrix: 6\n",
      "Enter the number for a1.1: 1\n",
      "Enter the number for a1.2: 2\n",
      "Enter the number for a2.1: 3\n",
      "Enter the number for a2.2: 4\n",
      "Enter the number for a3.1: 5\n",
      "Enter the number for a3.2: 6\n",
      "Enter the number for a4.1: 7\n",
      "Enter the number for a4.2: 8\n",
      "Enter the number for b1.1: 9\n",
      "Enter the number for b1.2: 10\n",
      "Enter the number for b1.3: 11\n",
      "Enter the number for b1.4: 12\n",
      "Enter the number for b1.5: 13\n",
      "Enter the number for b1.6: 14\n",
      "Enter the number for b2.1: 15\n",
      "Enter the number for b2.2: 16\n",
      "Enter the number for b2.3: 17\n",
      "Enter the number for b2.4: 18\n",
      "Enter the number for b2.5: 19\n",
      "Enter the number for b2.6: 20\n",
      "\n",
      "The product of  \n",
      "[[1, 2], [3, 4], [5, 6], [7, 8]]\n",
      "and    \n",
      "[[9, 10, 11, 12, 13, 14], [15, 16, 17, 18, 19, 20]]\n",
      "is\n",
      "\n",
      "[39, 42, 45, 48, 51, 54]\n",
      "[87, 94, 101, 108, 115, 122]\n",
      "[135, 146, 157, 168, 179, 190]\n",
      "[183, 198, 213, 228, 243, 258]\n"
     ]
    }
   ],
   "source": [
    "row1 = int(input('Enter No of rows for first matrix: '))\n",
    "col1 = int(input('Enter No of columns for first matrix: '))\n",
    "row2 = int(input('Enter No of rows for second matrix: '))\n",
    "col2 = int(input('Enter No of columns for second matrix: '))\n",
    "if col1==row2:\n",
    "    mat1 = []\n",
    "    for i in range(row1):\n",
    "        col = []\n",
    "        for j in range(col1):\n",
    "            x = int(input(f'Enter the number for a{i+1}.{j+1}: '))\n",
    "            col.append(x)\n",
    "        mat1.append(col)\n",
    "    mat2 = []\n",
    "    for i in range(row2):\n",
    "        col = []\n",
    "        for j in range(col2):\n",
    "            x = int(input(f'Enter the number for b{i+1}.{j+1}: '))\n",
    "            col.append(x)\n",
    "        mat2.append(col)\n",
    "    final_mat = []\n",
    "    for row_index in range(len(mat1)):\n",
    "        final_mat.append([])\n",
    "        row_mul = mat1[row_index]\n",
    "        for i in range(len(mat2[0])):\n",
    "            col_mul = []\n",
    "            for j in mat2:\n",
    "                col_mul.append(j[i])\n",
    "            num = 0\n",
    "            for x in range(len(row_mul)):\n",
    "                num += row_mul[x]*col_mul[x]\n",
    "            final_mat[row_index].append(num)\n",
    "    print(f'\\nThe product of  \\n{mat1}\\nand    \\n{mat2}\\nis\\n')\n",
    "    for i in final_mat:\n",
    "        print(i)\n",
    "else:\n",
    "    print('Mismatch in matrix dimension')\n"
   ]
  },
  {
   "cell_type": "code",
   "execution_count": null,
   "metadata": {},
   "outputs": [],
   "source": []
  }
 ],
 "metadata": {
  "kernelspec": {
   "display_name": "Python 3",
   "language": "python",
   "name": "python3"
  },
  "language_info": {
   "codemirror_mode": {
    "name": "ipython",
    "version": 3
   },
   "file_extension": ".py",
   "mimetype": "text/x-python",
   "name": "python",
   "nbconvert_exporter": "python",
   "pygments_lexer": "ipython3",
   "version": "3.8.3"
  }
 },
 "nbformat": 4,
 "nbformat_minor": 4
}
